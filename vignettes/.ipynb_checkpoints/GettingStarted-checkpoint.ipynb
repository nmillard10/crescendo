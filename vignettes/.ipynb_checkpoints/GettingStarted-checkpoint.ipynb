{
 "cells": [
  {
   "cell_type": "markdown",
   "id": "fb167d91-71f9-4e65-9e4b-d2a945967f86",
   "metadata": {
    "tags": []
   },
   "source": [
    "# Load libraries"
   ]
  },
  {
   "cell_type": "code",
   "execution_count": 1,
   "id": "2db7056a-ab6a-4cc0-8502-b49b67d49b33",
   "metadata": {},
   "outputs": [],
   "source": [
    "suppressPackageStartupMessages({\n",
    "    library(crescendo)\n",
    "})"
   ]
  },
  {
   "cell_type": "markdown",
   "id": "c1898f40-24c6-428e-8748-2ba09c59ab33",
   "metadata": {
    "tags": []
   },
   "source": [
    "# Load data"
   ]
  },
  {
   "cell_type": "code",
   "execution_count": 2,
   "id": "e23d0096-da47-47e0-afe5-ca29fa9c03a8",
   "metadata": {},
   "outputs": [
    {
     "data": {
      "text/plain": [
       "   user  system elapsed \n",
       "  2.936   0.193   3.415 "
      ]
     },
     "metadata": {},
     "output_type": "display_data"
    }
   ],
   "source": [
    "system.time({\n",
    "    obj <- readRDS(system.file(\"extdata\", \"Vizgen_Slice3_obj.rds\", package = \"crescendo\"))\n",
    "})"
   ]
  },
  {
   "cell_type": "code",
   "execution_count": 3,
   "id": "897731fb-546c-4161-9a05-d2e2ae210cac",
   "metadata": {},
   "outputs": [
    {
     "name": "stdout",
     "output_type": "stream",
     "text": [
      "List of 3\n",
      " $ meta_data:'data.frame':\t179385 obs. of  26 variables:\n",
      " $ exprs_raw:Formal class 'dgCMatrix' [package \"Matrix\"] with 6 slots\n",
      " $ R        : num [1:100, 1:179385] 7.66e-12 1.22e-06 7.12e-12 1.90e-11 5.61e-02 ...\n"
     ]
    }
   ],
   "source": [
    "obj %>% str(1)"
   ]
  },
  {
   "cell_type": "markdown",
   "id": "e5e1b348-8513-4eca-9cd3-9f8d25c82de7",
   "metadata": {},
   "source": [
    "## Set up parameters"
   ]
  },
  {
   "cell_type": "markdown",
   "id": "0afe81d5-eeb7-4f16-8dad-d3a50475b4d7",
   "metadata": {},
   "source": [
    "### Test 1"
   ]
  },
  {
   "cell_type": "code",
   "execution_count": 4,
   "id": "f9d8f808-4216-4f25-9c42-5bb7ea6758ed",
   "metadata": {},
   "outputs": [],
   "source": [
    "genes_use <- c('Gpr34', 'Rxfp1')\n",
    "prop <- 0.05\n",
    "min_cells <- 50\n",
    "\n",
    "batch_col <- 'batch'\n",
    "id_col = 'CellID'\n",
    "constant_umi <- TRUE\n",
    "merge_clusters <- TRUE\n",
    "\n",
    "mc.cores <- NULL\n",
    "# mc.cores <- 1\n",
    "alpha <- 0\n",
    "lambda <- NULL"
   ]
  },
  {
   "cell_type": "code",
   "execution_count": 5,
   "id": "1d59a7ee-84d7-49ec-8b7b-9edc6a8c8de9",
   "metadata": {
    "tags": []
   },
   "outputs": [
    {
     "name": "stderr",
     "output_type": "stream",
     "text": [
      "Creating design matrix\n",
      "\n",
      "Getting discrete Harmony cluster\n",
      "\n",
      "Downsampling\n",
      "\n",
      "Estimating\n",
      "\n",
      "Marginalizing\n",
      "\n",
      "Matching\n",
      "\n"
     ]
    },
    {
     "data": {
      "text/plain": [
       "   user  system elapsed \n",
       " 18.095   6.896   9.923 "
      ]
     },
     "metadata": {},
     "output_type": "display_data"
    }
   ],
   "source": [
    "system.time({\n",
    "    corr_counts <- crescendo(\n",
    "        Ycounts = obj$exprs_raw,\n",
    "        meta_data = obj$meta_data,\n",
    "        R = obj$R,\n",
    "        genes_use = genes_use,\n",
    "        prop = prop,\n",
    "        min_cells = min_cells,\n",
    "        batch_col = batch_col,\n",
    "        id_col = id_col,\n",
    "        constant_umi = TRUE,\n",
    "        merge_clusters = TRUE,\n",
    "        alpha = 0,\n",
    "        lambda = NULL,\n",
    "        seed = 2,\n",
    "        return_obj = FALSE,\n",
    "        mc.cores = mc.cores\n",
    "    )\n",
    "})"
   ]
  },
  {
   "cell_type": "code",
   "execution_count": 6,
   "id": "47c35562-e5d6-42d1-9f03-ef482f31e75a",
   "metadata": {},
   "outputs": [
    {
     "name": "stdout",
     "output_type": "stream",
     "text": [
      " int [1:179385, 1:2] 0 0 0 0 0 0 0 0 0 0 ...\n",
      " - attr(*, \"dimnames\")=List of 2\n"
     ]
    }
   ],
   "source": [
    "corr_counts %>% str(1)"
   ]
  },
  {
   "cell_type": "code",
   "execution_count": null,
   "id": "48ce7902-379d-46d0-b8d1-c5b5f15c83da",
   "metadata": {},
   "outputs": [],
   "source": []
  },
  {
   "cell_type": "markdown",
   "id": "50fcc9d8-3bca-4960-a204-bf7433932b7a",
   "metadata": {},
   "source": [
    "# End"
   ]
  },
  {
   "cell_type": "code",
   "execution_count": null,
   "id": "ba13abb4-65ec-4ea8-bc98-34594e86a811",
   "metadata": {},
   "outputs": [],
   "source": []
  },
  {
   "cell_type": "code",
   "execution_count": null,
   "id": "d0065b6f-0bf7-41c1-a9ec-b93c34a9cc75",
   "metadata": {},
   "outputs": [],
   "source": []
  },
  {
   "cell_type": "code",
   "execution_count": null,
   "id": "4cd1ebd9-a40f-4986-848c-68af5c68f66f",
   "metadata": {},
   "outputs": [],
   "source": []
  },
  {
   "cell_type": "code",
   "execution_count": null,
   "id": "5c5dc8d2-cc9c-4184-bd12-2305f2d61185",
   "metadata": {},
   "outputs": [],
   "source": []
  },
  {
   "cell_type": "code",
   "execution_count": null,
   "id": "0517c963-5b29-4944-aa53-03b52570a00d",
   "metadata": {},
   "outputs": [],
   "source": []
  }
 ],
 "metadata": {
  "kernelspec": {
   "display_name": "R",
   "language": "R",
   "name": "ir"
  },
  "language_info": {
   "codemirror_mode": "r",
   "file_extension": ".r",
   "mimetype": "text/x-r-source",
   "name": "R",
   "pygments_lexer": "r",
   "version": "4.2.2"
  }
 },
 "nbformat": 4,
 "nbformat_minor": 5
}
