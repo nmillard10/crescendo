{
 "cells": [
  {
   "cell_type": "markdown",
   "id": "fb167d91-71f9-4e65-9e4b-d2a945967f86",
   "metadata": {
    "tags": []
   },
   "source": [
    "# Load libraries"
   ]
  },
  {
   "cell_type": "code",
   "execution_count": 1,
   "id": "2db7056a-ab6a-4cc0-8502-b49b67d49b33",
   "metadata": {},
   "outputs": [],
   "source": [
    "suppressPackageStartupMessages({\n",
    "    library(crescendo)\n",
    "    library(parallel)\n",
    "})"
   ]
  },
  {
   "cell_type": "markdown",
   "id": "c1898f40-24c6-428e-8748-2ba09c59ab33",
   "metadata": {
    "tags": []
   },
   "source": [
    "# Load data"
   ]
  },
  {
   "cell_type": "code",
   "execution_count": 2,
   "id": "01a852e6-3f6d-4481-9e8a-f683bb8c93c3",
   "metadata": {},
   "outputs": [
    {
     "name": "stdout",
     "output_type": "stream",
     "text": [
      "List of 3\n",
      " $ meta_data:'data.frame':\t20792 obs. of  12 variables:\n",
      " $ exprs_raw:Formal class 'dgCMatrix' [package \"Matrix\"] with 6 slots\n",
      " $ R        : num [1:100, 1:20792] 9.56e-02 2.05e-09 8.28e-11 1.30e-11 3.24e-11 ...\n"
     ]
    },
    {
     "data": {
      "text/html": [
       "<style>\n",
       ".list-inline {list-style: none; margin:0; padding: 0}\n",
       ".list-inline>li {display: inline-block}\n",
       ".list-inline>li:not(:last-child)::after {content: \"\\00b7\"; padding: 0 .5ex}\n",
       "</style>\n",
       "<ol class=list-inline><li>4</li><li>20792</li></ol>\n"
      ],
      "text/latex": [
       "\\begin{enumerate*}\n",
       "\\item 4\n",
       "\\item 20792\n",
       "\\end{enumerate*}\n"
      ],
      "text/markdown": [
       "1. 4\n",
       "2. 20792\n",
       "\n",
       "\n"
      ],
      "text/plain": [
       "[1]     4 20792"
      ]
     },
     "metadata": {},
     "output_type": "display_data"
    }
   ],
   "source": [
    "# Load dataset with metadata, raw gene counts, and Harmony clusters (result from running the Harmony algorithm)\n",
    "obj <- readRDS(system.file(\"extdata\", \"pbmc_4gene_obj.rds\", package = \"crescendo\"))\n",
    "\n",
    "obj %>% str(1)\n",
    "obj$exprs_raw %>% dim"
   ]
  },
  {
   "cell_type": "markdown",
   "id": "e5e1b348-8513-4eca-9cd3-9f8d25c82de7",
   "metadata": {},
   "source": [
    "# Set up parameters"
   ]
  },
  {
   "cell_type": "code",
   "execution_count": 3,
   "id": "dc92f599-c398-471f-9aa2-a9f54eb50e6b",
   "metadata": {},
   "outputs": [],
   "source": [
    "# Set which genes to correct and parameters for coorrection\n",
    "batch_var <- 'batch'\n",
    "genes_use <- c('TRAC', 'MS4A1')\n",
    "prop <- 0.05\n",
    "min_cells <- 50\n",
    "\n",
    "mc.cores <- NULL\n",
    "lambda <- NULL\n",
    "alpha <- 0"
   ]
  },
  {
   "cell_type": "markdown",
   "id": "7ee61239-372d-4f31-882a-1433d5344e2b",
   "metadata": {},
   "source": [
    "# Run Crescendo"
   ]
  },
  {
   "cell_type": "code",
   "execution_count": 4,
   "id": "5bfe8ea9-837c-480c-aa2c-b38c56192933",
   "metadata": {},
   "outputs": [
    {
     "data": {
      "text/html": [
       "<style>\n",
       ".list-inline {list-style: none; margin:0; padding: 0}\n",
       ".list-inline>li {display: inline-block}\n",
       ".list-inline>li:not(:last-child)::after {content: \"\\00b7\"; padding: 0 .5ex}\n",
       "</style>\n",
       "<ol class=list-inline><li>20792</li><li>2</li></ol>\n"
      ],
      "text/latex": [
       "\\begin{enumerate*}\n",
       "\\item 20792\n",
       "\\item 2\n",
       "\\end{enumerate*}\n"
      ],
      "text/markdown": [
       "1. 20792\n",
       "2. 2\n",
       "\n",
       "\n"
      ],
      "text/plain": [
       "[1] 20792     2"
      ]
     },
     "metadata": {},
     "output_type": "display_data"
    }
   ],
   "source": [
    "# Run Crescendo\n",
    "corr_counts <- crescendo(\n",
    "    Ycounts = obj$exprs_raw,\n",
    "    meta_data = obj$meta_data,\n",
    "    R = obj$R,\n",
    "    batch_var = 'batch',\n",
    "    genes_use = genes_use,\n",
    "    prop = prop,\n",
    "    min_cells = min_cells,\n",
    "    lambda = lambda,\n",
    "    alpha = alpha,\n",
    "    mc.cores = mc.cores,\n",
    "    return_obj = FALSE,\n",
    "    verbose = FALSE\n",
    "    # verbose = TRUE\n",
    ")\n",
    "\n",
    "corr_counts %>% dim"
   ]
  },
  {
   "cell_type": "markdown",
   "id": "54d2cf0f-6e8d-4c68-ae48-eb6deee4c1ba",
   "metadata": {},
   "source": [
    "# Session information"
   ]
  },
  {
   "cell_type": "code",
   "execution_count": 5,
   "id": "d2e30d41-5297-4169-9e8a-692e12a43a95",
   "metadata": {},
   "outputs": [
    {
     "data": {
      "text/plain": [
       "R version 4.2.2 (2022-10-31)\n",
       "Platform: x86_64-conda-linux-gnu (64-bit)\n",
       "Running under: Red Hat Enterprise Linux Server release 6.5 (Santiago)\n",
       "\n",
       "Matrix products: default\n",
       "BLAS/LAPACK: /PHShome/nm455/anaconda3/envs/test13/lib/libopenblasp-r0.3.21.so\n",
       "\n",
       "Random number generation:\n",
       " RNG:     L'Ecuyer-CMRG \n",
       " Normal:  Inversion \n",
       " Sample:  Rejection \n",
       " \n",
       "locale:\n",
       " [1] LC_CTYPE=en_US.UTF-8       LC_NUMERIC=C              \n",
       " [3] LC_TIME=en_US.UTF-8        LC_COLLATE=en_US.UTF-8    \n",
       " [5] LC_MONETARY=en_US.UTF-8    LC_MESSAGES=en_US.UTF-8   \n",
       " [7] LC_PAPER=en_US.UTF-8       LC_NAME=C                 \n",
       " [9] LC_ADDRESS=C               LC_TELEPHONE=C            \n",
       "[11] LC_MEASUREMENT=en_US.UTF-8 LC_IDENTIFICATION=C       \n",
       "\n",
       "attached base packages:\n",
       "[1] parallel  stats     graphics  grDevices utils     datasets  methods  \n",
       "[8] base     \n",
       "\n",
       "other attached packages:\n",
       "[1] crescendo_1.0\n",
       "\n",
       "loaded via a namespace (and not attached):\n",
       " [1] Rcpp_1.0.12        pillar_1.9.0       compiler_4.2.2     base64enc_0.1-3   \n",
       " [5] iterators_1.0.14   tools_4.2.2        digest_0.6.33      uuid_1.2-0        \n",
       " [9] tibble_3.2.1       jsonlite_1.8.7     evaluate_0.23      lifecycle_1.0.4   \n",
       "[13] lattice_0.20-45    pkgconfig_2.0.3    rlang_1.1.3        Matrix_1.6-5      \n",
       "[17] foreach_1.5.2      IRdisplay_1.1      cli_3.6.2          IRkernel_1.3.1    \n",
       "[21] fastmap_1.1.1      withr_3.0.0        stringr_1.5.1      dplyr_1.1.0       \n",
       "[25] repr_1.1.4         generics_0.1.3     vctrs_0.6.3        tidyselect_1.2.1  \n",
       "[29] glmnet_4.1-8       grid_4.2.2         glue_1.7.0         data.table_1.15.0 \n",
       "[33] R6_2.5.1           BH_1.84.0-0        fansi_1.0.6        survival_3.4-0    \n",
       "[37] pbdZMQ_0.3-8       purrr_1.0.1        magrittr_2.0.3     codetools_0.2-18  \n",
       "[41] htmltools_0.5.6    splines_4.2.2      shape_1.4.6.1      tidyverse_2.0.0   \n",
       "[45] utf8_1.2.4         stringi_1.8.3      RcppParallel_5.1.7 crayon_1.5.2      "
      ]
     },
     "metadata": {},
     "output_type": "display_data"
    }
   ],
   "source": [
    "# Session information\n",
    "sessionInfo()"
   ]
  },
  {
   "cell_type": "markdown",
   "id": "50fcc9d8-3bca-4960-a204-bf7433932b7a",
   "metadata": {},
   "source": [
    "# End"
   ]
  },
  {
   "cell_type": "code",
   "execution_count": null,
   "id": "4cd1ebd9-a40f-4986-848c-68af5c68f66f",
   "metadata": {},
   "outputs": [],
   "source": []
  },
  {
   "cell_type": "code",
   "execution_count": null,
   "id": "5c5dc8d2-cc9c-4184-bd12-2305f2d61185",
   "metadata": {},
   "outputs": [],
   "source": []
  },
  {
   "cell_type": "code",
   "execution_count": null,
   "id": "0517c963-5b29-4944-aa53-03b52570a00d",
   "metadata": {},
   "outputs": [],
   "source": []
  }
 ],
 "metadata": {
  "kernelspec": {
   "display_name": "R",
   "language": "R",
   "name": "ir"
  },
  "language_info": {
   "codemirror_mode": "r",
   "file_extension": ".r",
   "mimetype": "text/x-r-source",
   "name": "R",
   "pygments_lexer": "r",
   "version": "4.2.2"
  }
 },
 "nbformat": 4,
 "nbformat_minor": 5
}
