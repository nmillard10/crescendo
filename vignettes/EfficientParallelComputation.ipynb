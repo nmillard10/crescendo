{
 "cells": [
  {
   "cell_type": "markdown",
   "id": "fb167d91-71f9-4e65-9e4b-d2a945967f86",
   "metadata": {
    "tags": []
   },
   "source": [
    "# Load libraries"
   ]
  },
  {
   "cell_type": "code",
   "execution_count": 1,
   "id": "2db7056a-ab6a-4cc0-8502-b49b67d49b33",
   "metadata": {},
   "outputs": [],
   "source": [
    "suppressPackageStartupMessages({\n",
    "    library(crescendo)\n",
    "})"
   ]
  },
  {
   "cell_type": "markdown",
   "id": "c1898f40-24c6-428e-8748-2ba09c59ab33",
   "metadata": {
    "tags": []
   },
   "source": [
    "# Load data"
   ]
  },
  {
   "cell_type": "code",
   "execution_count": 2,
   "id": "4928fb55-6d77-4b70-9088-a65527c54912",
   "metadata": {},
   "outputs": [
    {
     "data": {
      "text/plain": [
       "   user  system elapsed \n",
       "  5.692   0.310   6.874 "
      ]
     },
     "metadata": {},
     "output_type": "display_data"
    }
   ],
   "source": [
    "system.time({\n",
    "    a <- readRDS('/data/srlab1/nmillard/cresc/cache/MouseVizgen/S3_obj.rds')\n",
    "})"
   ]
  },
  {
   "cell_type": "code",
   "execution_count": 3,
   "id": "8200dad1-8207-4e89-b673-b5f7dc33f6f3",
   "metadata": {},
   "outputs": [
    {
     "name": "stdout",
     "output_type": "stream",
     "text": [
      "List of 11\n",
      " $ meta_data :'data.frame':\t179385 obs. of  26 variables:\n",
      " $ exprs_raw :Formal class 'dgCMatrix' [package \"Matrix\"] with 6 slots\n",
      " $ exprs_norm:Formal class 'dgCMatrix' [package \"Matrix\"] with 6 slots\n",
      " $ var_genes : chr [1:483] \"Chat\" \"Ntrk1\" \"Slc47a1\" \"Slc17a8\" ...\n",
      " $ V         : num [1:179385, 1:20] -15.5 -14.3 -10.9 -12.3 -11.6 ...\n",
      "  ..- attr(*, \"dimnames\")=List of 2\n",
      " $ loadings  : num [1:483, 1:20] 0.00168 0.00188 -0.01473 0.00564 0.00569 ...\n",
      "  ..- attr(*, \"dimnames\")=List of 2\n",
      " $ umap_pre  : num [1:179385, 1:2] -1.188 0.543 1.863 0.831 0.258 ...\n",
      "  ..- attr(*, \"scaled:center\")= num [1:2] 0.0721 -0.2451\n",
      "  ..- attr(*, \"dimnames\")=List of 2\n",
      " $ Z_corr    : num [1:179385, 1:20] -0.694 -0.601 -0.807 -0.557 -0.511 ...\n",
      "  ..- attr(*, \"dimnames\")=List of 2\n",
      " $ R         : num [1:100, 1:179385] 7.66e-12 1.22e-06 7.12e-12 1.90e-11 5.61e-02 ...\n",
      " $ umap_post : num [1:179385, 1:2] -1.9333 -0.1009 1.0099 0.0994 -0.3936 ...\n",
      "  ..- attr(*, \"scaled:center\")= num [1:2] 0.162 -0.177\n",
      "  ..- attr(*, \"dimnames\")=List of 2\n",
      " $ R_merged  : num [1:52, 1:179385] 4.63e-11 4.88e-06 7.12e-12 1.14e-10 2.76e-01 ...\n"
     ]
    }
   ],
   "source": [
    "a %>% str(1)"
   ]
  },
  {
   "cell_type": "code",
   "execution_count": 8,
   "id": "0da35847-b4ee-4502-9447-4afe37946c6b",
   "metadata": {},
   "outputs": [],
   "source": [
    "obj <- list(\n",
    "    'meta_data' = a$meta_data,\n",
    "    'exprs_raw' = a$exprs_raw[c('Gpr34', 'Rxfp1', 'Epha8', 'Slco1a4'),],\n",
    "    'R' = a$R\n",
    ")"
   ]
  },
  {
   "cell_type": "code",
   "execution_count": 9,
   "id": "dd2b733c-b893-486f-9f3f-a098b780a6a4",
   "metadata": {},
   "outputs": [
    {
     "name": "stdout",
     "output_type": "stream",
     "text": [
      "List of 3\n",
      " $ meta_data:'data.frame':\t179385 obs. of  26 variables:\n",
      " $ exprs_raw:Formal class 'dgCMatrix' [package \"Matrix\"] with 6 slots\n",
      " $ R        : num [1:100, 1:179385] 7.66e-12 1.22e-06 7.12e-12 1.90e-11 5.61e-02 ...\n"
     ]
    }
   ],
   "source": [
    "obj %>% str(1)"
   ]
  },
  {
   "cell_type": "code",
   "execution_count": 14,
   "id": "0d414d86-9d87-4094-8f11-dbc2dbc4845c",
   "metadata": {},
   "outputs": [
    {
     "name": "stdout",
     "output_type": "stream",
     "text": [
      "222.7 Mb\n"
     ]
    }
   ],
   "source": [
    "print(object.size(obj), units = 'Mb')"
   ]
  },
  {
   "cell_type": "code",
   "execution_count": 15,
   "id": "31402715-9a8a-4234-8136-2d1b50356e04",
   "metadata": {},
   "outputs": [
    {
     "name": "stdout",
     "output_type": "stream",
     "text": [
      "812.8 Mb\n"
     ]
    }
   ],
   "source": [
    "print(object.size(a), units = 'Mb')"
   ]
  },
  {
   "cell_type": "code",
   "execution_count": 12,
   "id": "7e46ec2c-09b8-4675-bd6e-985deeb485ed",
   "metadata": {},
   "outputs": [
    {
     "ename": "ERROR",
     "evalue": "Error in getSize(obj): could not find function \"getSize\"\n",
     "output_type": "error",
     "traceback": [
      "Error in getSize(obj): could not find function \"getSize\"\nTraceback:\n"
     ]
    }
   ],
   "source": [
    "getSize(obj)"
   ]
  },
  {
   "cell_type": "code",
   "execution_count": 2,
   "id": "e23d0096-da47-47e0-afe5-ca29fa9c03a8",
   "metadata": {},
   "outputs": [
    {
     "name": "stderr",
     "output_type": "stream",
     "text": [
      "Warning message in gzfile(file, \"rb\"):\n",
      "“cannot open compressed file '', probable reason 'No such file or directory'”\n"
     ]
    },
    {
     "ename": "ERROR",
     "evalue": "Error in gzfile(file, \"rb\"): cannot open the connection\n",
     "output_type": "error",
     "traceback": [
      "Error in gzfile(file, \"rb\"): cannot open the connection\nTraceback:\n",
      "1. system.time({\n .     obj <- readRDS(system.file(\"extdata\", \"Vizgen_Slice3_obj.rds\", \n .         package = \"crescendo\"))\n . })",
      "2. readRDS(system.file(\"extdata\", \"Vizgen_Slice3_obj.rds\", package = \"crescendo\"))   # at line 2 of file <text>",
      "3. gzfile(file, \"rb\")"
     ]
    },
    {
     "name": "stderr",
     "output_type": "stream",
     "text": [
      "Timing stopped at: 0.007 0 0.006\n",
      "\n"
     ]
    }
   ],
   "source": [
    "system.time({\n",
    "    obj <- readRDS(system.file(\"extdata\", \"Vizgen_Slice3_obj.rds\", package = \"crescendo\"))\n",
    "})"
   ]
  },
  {
   "cell_type": "code",
   "execution_count": 3,
   "id": "897731fb-546c-4161-9a05-d2e2ae210cac",
   "metadata": {},
   "outputs": [
    {
     "name": "stdout",
     "output_type": "stream",
     "text": [
      "List of 3\n",
      " $ meta_data:'data.frame':\t179385 obs. of  26 variables:\n",
      " $ exprs_raw:Formal class 'dgCMatrix' [package \"Matrix\"] with 6 slots\n",
      " $ R        : num [1:100, 1:179385] 7.66e-12 1.22e-06 7.12e-12 1.90e-11 5.61e-02 ...\n"
     ]
    }
   ],
   "source": [
    "obj %>% str(1)"
   ]
  },
  {
   "cell_type": "markdown",
   "id": "e5e1b348-8513-4eca-9cd3-9f8d25c82de7",
   "metadata": {},
   "source": [
    "## Set up parameters"
   ]
  },
  {
   "cell_type": "markdown",
   "id": "0afe81d5-eeb7-4f16-8dad-d3a50475b4d7",
   "metadata": {},
   "source": [
    "### Test 1"
   ]
  },
  {
   "cell_type": "code",
   "execution_count": 4,
   "id": "f9d8f808-4216-4f25-9c42-5bb7ea6758ed",
   "metadata": {},
   "outputs": [],
   "source": [
    "genes_use <- c('Gpr34', 'Rxfp1')\n",
    "prop <- 0.05\n",
    "min_cells <- 50\n",
    "\n",
    "batch_col <- 'batch'\n",
    "id_col = 'CellID'\n",
    "constant_umi <- TRUE\n",
    "merge_clusters <- TRUE\n",
    "\n",
    "mc.cores <- NULL\n",
    "# mc.cores <- 1\n",
    "alpha <- 0\n",
    "lambda <- NULL"
   ]
  },
  {
   "cell_type": "code",
   "execution_count": 5,
   "id": "1d59a7ee-84d7-49ec-8b7b-9edc6a8c8de9",
   "metadata": {
    "tags": []
   },
   "outputs": [
    {
     "name": "stderr",
     "output_type": "stream",
     "text": [
      "Creating design matrix\n",
      "\n",
      "Getting discrete Harmony cluster\n",
      "\n",
      "Downsampling\n",
      "\n",
      "Estimating\n",
      "\n",
      "Marginalizing\n",
      "\n",
      "Matching\n",
      "\n"
     ]
    },
    {
     "data": {
      "text/plain": [
       "   user  system elapsed \n",
       " 18.095   6.896   9.923 "
      ]
     },
     "metadata": {},
     "output_type": "display_data"
    }
   ],
   "source": [
    "system.time({\n",
    "    corr_counts <- crescendo(\n",
    "        Ycounts = obj$exprs_raw,\n",
    "        meta_data = obj$meta_data,\n",
    "        R = obj$R,\n",
    "        genes_use = genes_use,\n",
    "        prop = prop,\n",
    "        min_cells = min_cells,\n",
    "        batch_col = batch_col,\n",
    "        id_col = id_col,\n",
    "        constant_umi = TRUE,\n",
    "        merge_clusters = TRUE,\n",
    "        alpha = 0,\n",
    "        lambda = NULL,\n",
    "        seed = 2,\n",
    "        return_obj = FALSE,\n",
    "        mc.cores = mc.cores\n",
    "    )\n",
    "})"
   ]
  },
  {
   "cell_type": "code",
   "execution_count": 6,
   "id": "47c35562-e5d6-42d1-9f03-ef482f31e75a",
   "metadata": {},
   "outputs": [
    {
     "name": "stdout",
     "output_type": "stream",
     "text": [
      " int [1:179385, 1:2] 0 0 0 0 0 0 0 0 0 0 ...\n",
      " - attr(*, \"dimnames\")=List of 2\n"
     ]
    }
   ],
   "source": [
    "corr_counts %>% str(1)"
   ]
  },
  {
   "cell_type": "code",
   "execution_count": null,
   "id": "48ce7902-379d-46d0-b8d1-c5b5f15c83da",
   "metadata": {},
   "outputs": [],
   "source": []
  },
  {
   "cell_type": "markdown",
   "id": "50fcc9d8-3bca-4960-a204-bf7433932b7a",
   "metadata": {},
   "source": [
    "# End"
   ]
  },
  {
   "cell_type": "code",
   "execution_count": null,
   "id": "ba13abb4-65ec-4ea8-bc98-34594e86a811",
   "metadata": {},
   "outputs": [],
   "source": []
  },
  {
   "cell_type": "code",
   "execution_count": null,
   "id": "d0065b6f-0bf7-41c1-a9ec-b93c34a9cc75",
   "metadata": {},
   "outputs": [],
   "source": []
  },
  {
   "cell_type": "code",
   "execution_count": null,
   "id": "4cd1ebd9-a40f-4986-848c-68af5c68f66f",
   "metadata": {},
   "outputs": [],
   "source": []
  },
  {
   "cell_type": "code",
   "execution_count": null,
   "id": "5c5dc8d2-cc9c-4184-bd12-2305f2d61185",
   "metadata": {},
   "outputs": [],
   "source": []
  },
  {
   "cell_type": "code",
   "execution_count": null,
   "id": "0517c963-5b29-4944-aa53-03b52570a00d",
   "metadata": {},
   "outputs": [],
   "source": []
  }
 ],
 "metadata": {
  "kernelspec": {
   "display_name": "R",
   "language": "R",
   "name": "ir"
  },
  "language_info": {
   "codemirror_mode": "r",
   "file_extension": ".r",
   "mimetype": "text/x-r-source",
   "name": "R",
   "pygments_lexer": "r",
   "version": "4.2.2"
  }
 },
 "nbformat": 4,
 "nbformat_minor": 5
}
